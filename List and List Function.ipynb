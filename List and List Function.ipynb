{
 "cells": [
  {
   "cell_type": "markdown",
   "metadata": {},
   "source": [
    "# List and List Function "
   ]
  },
  {
   "cell_type": "code",
   "execution_count": 29,
   "metadata": {},
   "outputs": [
    {
     "name": "stdout",
     "output_type": "stream",
     "text": [
      "[1, 2, 3, 4, 5, 6, 7, 8, 9, 10]\n"
     ]
    }
   ],
   "source": [
    "num_list = [1,2,3,4,5,6,7,8,9,10]\n",
    "print(num_list)"
   ]
  },
  {
   "cell_type": "code",
   "execution_count": 30,
   "metadata": {},
   "outputs": [
    {
     "name": "stdout",
     "output_type": "stream",
     "text": [
      "['Banana', 'Apple', 'Watermelon', 'Grapes', 'Mango', 'Pineapple']\n"
     ]
    }
   ],
   "source": [
    "str_list = ['Banana','Apple','Watermelon','Grapes','Mango','Pineapple']\n",
    "print(str_list)"
   ]
  },
  {
   "cell_type": "code",
   "execution_count": 31,
   "metadata": {},
   "outputs": [
    {
     "name": "stdout",
     "output_type": "stream",
     "text": [
      "[101, 102, 102, 104, 105, 'Cat', 'Dog', 'Monkey', 'Cow']\n"
     ]
    }
   ],
   "source": [
    "com_list =[101,102,102,104,105,'Cat','Dog','Monkey','Cow']\n",
    "print(com_list)"
   ]
  },
  {
   "cell_type": "code",
   "execution_count": 53,
   "metadata": {},
   "outputs": [
    {
     "name": "stdout",
     "output_type": "stream",
     "text": [
      "[['emp-1', 'emp-2'], [0, 1, 2, 3, 4, 5, 6], 'ABC', 'LMN', [1001, 1002, 1003, 'emp-3', 'emp-4'], [11, 22, 33, 44, ['emp-11', 'emp-22', 'emp-33']]]\n"
     ]
    }
   ],
   "source": [
    "list_inside_list = [['emp-1','emp-2'],[0,1,2,3,4,5,6],'ABC','LMN',[1001,1002,1003,'emp-3','emp-4'],[11,22,33,44,['emp-11','emp-22','emp-33']]]\n",
    "print(list_inside_list)"
   ]
  },
  {
   "cell_type": "code",
   "execution_count": 33,
   "metadata": {},
   "outputs": [
    {
     "name": "stdout",
     "output_type": "stream",
     "text": [
      "2\n",
      "6\n",
      "10\n",
      "7\n"
     ]
    }
   ],
   "source": [
    "print(num_list[1])\n",
    "print(num_list[5])\n",
    "print(num_list[-1])\n",
    "print(num_list[-4])"
   ]
  },
  {
   "cell_type": "code",
   "execution_count": 34,
   "metadata": {},
   "outputs": [
    {
     "name": "stdout",
     "output_type": "stream",
     "text": [
      "[2, 3, 4, 5]\n"
     ]
    }
   ],
   "source": [
    "print(num_list[1:5])"
   ]
  },
  {
   "cell_type": "code",
   "execution_count": 35,
   "metadata": {},
   "outputs": [
    {
     "name": "stdout",
     "output_type": "stream",
     "text": [
      "[2, 3, 4, 5, 6]\n",
      "[1, 2, 3, 4, 5, 6, 7]\n",
      "[2, 3]\n"
     ]
    }
   ],
   "source": [
    "print(num_list[1:-4])\n",
    "print(num_list[0:-3])\n",
    "print(num_list[1:-7])"
   ]
  },
  {
   "cell_type": "code",
   "execution_count": 36,
   "metadata": {},
   "outputs": [
    {
     "name": "stdout",
     "output_type": "stream",
     "text": [
      "[1, 2, 3, 4, 5, 6, 7, 8, 9, 10]\n"
     ]
    }
   ],
   "source": [
    "print(num_list[::])"
   ]
  },
  {
   "cell_type": "code",
   "execution_count": 37,
   "metadata": {},
   "outputs": [
    {
     "name": "stdout",
     "output_type": "stream",
     "text": [
      "[1, 3, 5, 7, 9]\n",
      "[1, 5, 9]\n"
     ]
    }
   ],
   "source": [
    "print(num_list[::2])\n",
    "print(num_list[::4])\n",
    "# returns the number -1 (2-1=1)"
   ]
  },
  {
   "cell_type": "code",
   "execution_count": 38,
   "metadata": {},
   "outputs": [
    {
     "name": "stdout",
     "output_type": "stream",
     "text": [
      "[2, 4, 6]\n",
      "[1, 3, 5, 7]\n",
      "[3, 6, 9]\n"
     ]
    }
   ],
   "source": [
    "print(num_list[1:6:2])\n",
    "print(num_list[0:8:2])\n",
    "print(num_list[2:9:3])"
   ]
  },
  {
   "cell_type": "code",
   "execution_count": 39,
   "metadata": {},
   "outputs": [
    {
     "name": "stdout",
     "output_type": "stream",
     "text": [
      "emp-1\n",
      "emp-3\n",
      "3\n"
     ]
    }
   ],
   "source": [
    "print(list_inside_list[0][0])\n",
    "print(list_inside_list[2][3])\n",
    "print(list_inside_list[1][3])"
   ]
  },
  {
   "cell_type": "code",
   "execution_count": 58,
   "metadata": {},
   "outputs": [
    {
     "name": "stdout",
     "output_type": "stream",
     "text": [
      "[11, 22, 33, 44, ['emp-11', 'emp-22', 'emp-33']]\n",
      "['emp-11', 'emp-22', 'emp-33']\n",
      "emp-33\n"
     ]
    }
   ],
   "source": [
    "print(list_inside_list[5])\n",
    "print(list_inside_list[5][4])\n",
    "print(list_inside_list[5][4][2])"
   ]
  },
  {
   "cell_type": "code",
   "execution_count": 61,
   "metadata": {},
   "outputs": [],
   "source": [
    "name_list = ['Varun','Ajap','Piyush','Harshal','Darpan','Badal','Vicky']\n",
    "name_list[1] = 'Aniket'\n",
    "name_list[5] = 'Bunty'"
   ]
  },
  {
   "cell_type": "code",
   "execution_count": 62,
   "metadata": {},
   "outputs": [
    {
     "name": "stdout",
     "output_type": "stream",
     "text": [
      "['Varun', 'Aniket', 'Piyush', 'Harshal', 'Darpan', 'Bunty', 'Vicky']\n"
     ]
    }
   ],
   "source": [
    "print(name_list)"
   ]
  },
  {
   "cell_type": "markdown",
   "metadata": {},
   "source": [
    " ## Append "
   ]
  },
  {
   "cell_type": "code",
   "execution_count": 63,
   "metadata": {},
   "outputs": [],
   "source": [
    "name_list.append('Badal')"
   ]
  },
  {
   "cell_type": "code",
   "execution_count": 64,
   "metadata": {},
   "outputs": [
    {
     "name": "stdout",
     "output_type": "stream",
     "text": [
      "['Varun', 'Aniket', 'Piyush', 'Harshal', 'Darpan', 'Bunty', 'Vicky', 'Badal']\n"
     ]
    }
   ],
   "source": [
    "print(name_list)"
   ]
  },
  {
   "cell_type": "markdown",
   "metadata": {},
   "source": [
    "## Inserting Elements"
   ]
  },
  {
   "cell_type": "code",
   "execution_count": 79,
   "metadata": {},
   "outputs": [
    {
     "name": "stdout",
     "output_type": "stream",
     "text": [
      "['Varun', 'Aniket', 'Piyush', 'Dadu', 'Dadu', 'Dadu', 'Harshal', 'Darpan', 'Bunty', 'Vicky', 'Badal']\n"
     ]
    }
   ],
   "source": [
    "name_list.insert(3,'Dadu')\n",
    "print(name_list)"
   ]
  },
  {
   "cell_type": "markdown",
   "metadata": {},
   "source": [
    "## Removing Elements"
   ]
  },
  {
   "cell_type": "code",
   "execution_count": 76,
   "metadata": {},
   "outputs": [],
   "source": [
    "name_list.remove('Dadu')"
   ]
  },
  {
   "cell_type": "code",
   "execution_count": 80,
   "metadata": {},
   "outputs": [
    {
     "name": "stdout",
     "output_type": "stream",
     "text": [
      "['Varun', 'Aniket', 'Piyush', 'Dadu', 'Dadu', 'Dadu', 'Harshal', 'Darpan', 'Bunty', 'Vicky', 'Badal']\n"
     ]
    }
   ],
   "source": [
    "print(name_list)"
   ]
  },
  {
   "cell_type": "markdown",
   "metadata": {},
   "source": [
    "## POP \n"
   ]
  },
  {
   "cell_type": "code",
   "execution_count": 82,
   "metadata": {},
   "outputs": [
    {
     "name": "stdout",
     "output_type": "stream",
     "text": [
      "['Varun', 'Aniket', 'Piyush', 'Dadu', 'Dadu', 'Darpan', 'Bunty', 'Vicky', 'Badal']\n"
     ]
    }
   ],
   "source": [
    "name_list.pop(5)\n",
    "print(name_list)"
   ]
  },
  {
   "cell_type": "code",
   "execution_count": 84,
   "metadata": {},
   "outputs": [
    {
     "name": "stdout",
     "output_type": "stream",
     "text": [
      "Dadu\n"
     ]
    }
   ],
   "source": [
    "print(name_list.pop(3))"
   ]
  },
  {
   "cell_type": "code",
   "execution_count": 85,
   "metadata": {},
   "outputs": [
    {
     "name": "stdout",
     "output_type": "stream",
     "text": [
      "['Varun', 'Aniket', 'Piyush', 'Darpan', 'Bunty', 'Vicky', 'Badal']\n"
     ]
    }
   ],
   "source": [
    "print(name_list)"
   ]
  },
  {
   "cell_type": "code",
   "execution_count": 83,
   "metadata": {},
   "outputs": [
    {
     "name": "stdout",
     "output_type": "stream",
     "text": [
      "Dadu\n"
     ]
    }
   ],
   "source": [
    "a = name_list.pop(4)\n",
    "print(a)"
   ]
  },
  {
   "cell_type": "markdown",
   "metadata": {},
   "source": [
    "## Clearing List "
   ]
  },
  {
   "cell_type": "code",
   "execution_count": 87,
   "metadata": {},
   "outputs": [],
   "source": [
    "y = [1,2,3,4,5,6,7,8,9]\n",
    "y.clear()\n"
   ]
  },
  {
   "cell_type": "code",
   "execution_count": 88,
   "metadata": {},
   "outputs": [
    {
     "name": "stdout",
     "output_type": "stream",
     "text": [
      "[]\n"
     ]
    }
   ],
   "source": [
    "print(y)"
   ]
  },
  {
   "cell_type": "markdown",
   "metadata": {},
   "source": [
    "## Coping List  "
   ]
  },
  {
   "cell_type": "code",
   "execution_count": 89,
   "metadata": {},
   "outputs": [
    {
     "name": "stdout",
     "output_type": "stream",
     "text": [
      "['Banana', 'Apple', 'Watermelon', 'Grapes', 'Mango', 'Pineapple']\n"
     ]
    }
   ],
   "source": [
    "print(str_list)"
   ]
  },
  {
   "cell_type": "code",
   "execution_count": 90,
   "metadata": {},
   "outputs": [],
   "source": [
    "str_list2 = str_list.copy()"
   ]
  },
  {
   "cell_type": "code",
   "execution_count": 91,
   "metadata": {},
   "outputs": [
    {
     "name": "stdout",
     "output_type": "stream",
     "text": [
      "['Banana', 'Apple', 'Watermelon', 'Grapes', 'Mango', 'Pineapple']\n",
      "['Banana', 'Apple', 'Watermelon', 'Grapes', 'Mango', 'Pineapple']\n"
     ]
    }
   ],
   "source": [
    "print(str_list)\n",
    "print(str_list2)"
   ]
  },
  {
   "cell_type": "code",
   "execution_count": null,
   "metadata": {},
   "outputs": [],
   "source": []
  }
 ],
 "metadata": {
  "kernelspec": {
   "display_name": "Python 3",
   "language": "python",
   "name": "python3"
  },
  "language_info": {
   "codemirror_mode": {
    "name": "ipython",
    "version": 3
   },
   "file_extension": ".py",
   "mimetype": "text/x-python",
   "name": "python",
   "nbconvert_exporter": "python",
   "pygments_lexer": "ipython3",
   "version": "3.13.1"
  }
 },
 "nbformat": 4,
 "nbformat_minor": 2
}
