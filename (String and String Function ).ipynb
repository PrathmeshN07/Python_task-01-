{
 "cells": [
  {
   "cell_type": "markdown",
   "id": "7fad3f7e-3b86-40cd-a446-20cf7a92552b",
   "metadata": {},
   "source": [
    "# String and string function "
   ]
  },
  {
   "cell_type": "markdown",
   "id": "acf8a01c-722f-4754-8c6d-c7186be57623",
   "metadata": {},
   "source": [
    "### String Formating Function"
   ]
  },
  {
   "cell_type": "code",
   "execution_count": 11,
   "id": "47cb6e10-0e3f-4e13-a7be-d5b513802a6e",
   "metadata": {},
   "outputs": [
    {
     "name": "stdout",
     "output_type": "stream",
     "text": [
      "Hallow,Everyone\n"
     ]
    }
   ],
   "source": [
    "sentance = 'Hallow,Everyone'\n",
    "print(sentance)"
   ]
  },
  {
   "cell_type": "code",
   "execution_count": 176,
   "id": "ebd36299-b11f-42af-9a7b-d9253d877667",
   "metadata": {},
   "outputs": [
    {
     "name": "stdout",
     "output_type": "stream",
     "text": [
      "my name is Prathmesh \n"
     ]
    }
   ],
   "source": [
    "print(f'my name is {name}')"
   ]
  },
  {
   "cell_type": "markdown",
   "id": "4ebeb6d4-429e-4f7e-8b03-9f1cb8d0e09b",
   "metadata": {},
   "source": [
    "## Basic String Functions "
   ]
  },
  {
   "cell_type": "code",
   "execution_count": 15,
   "id": "600fbfa4-8863-4059-a3c7-aa37bb0c5bc7",
   "metadata": {},
   "outputs": [
    {
     "name": "stdin",
     "output_type": "stream",
     "text": [
      "inter your name Prathmesh \n"
     ]
    },
    {
     "name": "stdout",
     "output_type": "stream",
     "text": [
      "my name is Prathmesh \n"
     ]
    }
   ],
   "source": [
    "name = input('inter your name')\n",
    "print(f'my name is {name}')"
   ]
  },
  {
   "cell_type": "code",
   "execution_count": 19,
   "id": "fe3f8ed2-4adf-4667-a5eb-bf5fa648b700",
   "metadata": {},
   "outputs": [
    {
     "name": "stdout",
     "output_type": "stream",
     "text": [
      "my first name is Prathmesh \n"
     ]
    }
   ],
   "source": [
    "print('my first name is {}'.format(name))"
   ]
  },
  {
   "cell_type": "code",
   "execution_count": 45,
   "id": "cab8031b-b74a-428f-aa5c-a26c569d7b6a",
   "metadata": {},
   "outputs": [
    {
     "name": "stdout",
     "output_type": "stream",
     "text": [
      "My car name is BMW and the owner of car is Prathmesh Nagose\n"
     ]
    }
   ],
   "source": [
    "Car_name = 'BMW' \n",
    "print('My car name is {} and the owner of car is {}{}'.format(Car_name,name,'Nagose')  )\n"
   ]
  },
  {
   "cell_type": "code",
   "execution_count": 54,
   "id": "6e1d1c62-8a2b-47b4-a0cc-36df805e0074",
   "metadata": {},
   "outputs": [
    {
     "name": "stdout",
     "output_type": "stream",
     "text": [
      "15\n"
     ]
    }
   ],
   "source": [
    "print(len(sentance))"
   ]
  },
  {
   "cell_type": "code",
   "execution_count": 58,
   "id": "f09865fc-8a22-40d1-9027-8e79ccc7149a",
   "metadata": {},
   "outputs": [
    {
     "name": "stdout",
     "output_type": "stream",
     "text": [
      "1010\n"
     ]
    }
   ],
   "source": [
    "a = str(10)\n",
    "b = str(10) \n",
    "print(a+b)"
   ]
  },
  {
   "cell_type": "markdown",
   "id": "50827895-de89-4873-b44d-48393d3cb6b6",
   "metadata": {},
   "source": [
    "# Case Conversion Functions"
   ]
  },
  {
   "cell_type": "code",
   "execution_count": 75,
   "id": "2f4ac058-1a7b-43fd-9c51-84ab539f5b18",
   "metadata": {},
   "outputs": [
    {
     "name": "stdout",
     "output_type": "stream",
     "text": [
      "what a inning by rohit sharma 100\n"
     ]
    }
   ],
   "source": [
    "sent = 'what a inning by rohit sharma 100'\n",
    "print(sent)"
   ]
  },
  {
   "cell_type": "code",
   "execution_count": 77,
   "id": "4d12c678-53a7-4de0-b804-196e5f0e630b",
   "metadata": {},
   "outputs": [
    {
     "name": "stdout",
     "output_type": "stream",
     "text": [
      "WHAT A INNING BY ROHIT SHARMA 100\n"
     ]
    }
   ],
   "source": [
    "print(sent.upper())"
   ]
  },
  {
   "cell_type": "code",
   "execution_count": 79,
   "id": "88bf98c8-7935-4d07-b12f-fe53de757b83",
   "metadata": {},
   "outputs": [
    {
     "name": "stdout",
     "output_type": "stream",
     "text": [
      "what a inning by rohit sharma 100\n"
     ]
    }
   ],
   "source": [
    "print(sent.lower())"
   ]
  },
  {
   "cell_type": "code",
   "execution_count": 67,
   "id": "67f4896f-8a0e-43f0-8006-28c0b379d3ba",
   "metadata": {},
   "outputs": [
    {
     "name": "stdout",
     "output_type": "stream",
     "text": [
      "Hallow Everyone\n"
     ]
    }
   ],
   "source": [
    "print('hallow everyone'.title())"
   ]
  },
  {
   "cell_type": "code",
   "execution_count": 81,
   "id": "f5333b92-4828-4836-97c3-b8b760e4d38f",
   "metadata": {},
   "outputs": [
    {
     "name": "stdout",
     "output_type": "stream",
     "text": [
      "What a inning by rohit sharma 100\n"
     ]
    }
   ],
   "source": [
    "print(sent .capitalize())"
   ]
  },
  {
   "cell_type": "code",
   "execution_count": 85,
   "id": "24a12a0a-9291-4791-964b-9317851c2fa5",
   "metadata": {},
   "outputs": [
    {
     "name": "stdout",
     "output_type": "stream",
     "text": [
      "pRATHMESH \n"
     ]
    }
   ],
   "source": [
    "print(name.swapcase())"
   ]
  },
  {
   "cell_type": "markdown",
   "id": "bfce5390-4582-4364-b908-773d3ee63e99",
   "metadata": {},
   "source": [
    "##  Whitespace Removal Functions "
   ]
  },
  {
   "cell_type": "code",
   "execution_count": 90,
   "id": "e8afc26f-f909-47ea-9baa-b9e32d81100e",
   "metadata": {},
   "outputs": [
    {
     "name": "stdout",
     "output_type": "stream",
     "text": [
      "       Hallow         \n"
     ]
    }
   ],
   "source": [
    "whitespace = '       Hallow         '\n",
    "print(whitespace)"
   ]
  },
  {
   "cell_type": "code",
   "execution_count": 96,
   "id": "e9f7ac3f-48ec-4df8-9c89-14b399ec0992",
   "metadata": {},
   "outputs": [
    {
     "name": "stdout",
     "output_type": "stream",
     "text": [
      "Hallow         \n"
     ]
    }
   ],
   "source": [
    "print(whitespace .lstrip())"
   ]
  },
  {
   "cell_type": "code",
   "execution_count": 100,
   "id": "2276f8a5-6b39-4e10-a220-c77bfe7f34b1",
   "metadata": {},
   "outputs": [
    {
     "name": "stdout",
     "output_type": "stream",
     "text": [
      "       Hallow\n"
     ]
    }
   ],
   "source": [
    "print(whitespace .rstrip())"
   ]
  },
  {
   "cell_type": "code",
   "execution_count": 104,
   "id": "0dd831a5-5fb4-4a88-a84a-2c6101755dbd",
   "metadata": {},
   "outputs": [
    {
     "name": "stdout",
     "output_type": "stream",
     "text": [
      "Hallow\n"
     ]
    }
   ],
   "source": [
    "print(whitespace . strip())"
   ]
  },
  {
   "cell_type": "markdown",
   "id": "156d56d5-e741-4cf4-a121-baf3b142fdd3",
   "metadata": {},
   "source": [
    "## String Searching Functions"
   ]
  },
  {
   "cell_type": "code",
   "execution_count": 115,
   "id": "7cf54c8a-d7c8-4baf-b142-9cfdafc3a367",
   "metadata": {},
   "outputs": [
    {
     "name": "stdout",
     "output_type": "stream",
     "text": [
      "0\n"
     ]
    }
   ],
   "source": [
    "print(sent.find('w')) "
   ]
  },
  {
   "cell_type": "code",
   "execution_count": 123,
   "id": "4cd50a4b-7720-4cff-ace2-5c2f5300d35e",
   "metadata": {},
   "outputs": [
    {
     "name": "stdout",
     "output_type": "stream",
     "text": [
      "0\n"
     ]
    }
   ],
   "source": [
    "print(sent.count('l'))"
   ]
  },
  {
   "cell_type": "code",
   "execution_count": 127,
   "id": "d2758baa-aa48-4d9e-a99f-de61fd2d737a",
   "metadata": {},
   "outputs": [
    {
     "name": "stdout",
     "output_type": "stream",
     "text": [
      "30\n"
     ]
    }
   ],
   "source": [
    "print(sent.index('100'))"
   ]
  },
  {
   "cell_type": "markdown",
   "id": "623594af-d405-4805-8cc8-6dba2943d0ae",
   "metadata": {},
   "source": [
    "print(sent.startswith('w'))"
   ]
  },
  {
   "cell_type": "code",
   "execution_count": 144,
   "id": "58f65eea-33ef-43bf-846b-735c81fa0677",
   "metadata": {},
   "outputs": [
    {
     "name": "stdout",
     "output_type": "stream",
     "text": [
      "False\n"
     ]
    }
   ],
   "source": [
    "print(sent.endswith('s'))"
   ]
  },
  {
   "cell_type": "markdown",
   "id": "c352e757-039f-452d-aef0-622cf49e8723",
   "metadata": {},
   "source": [
    "##  String Replacement Functions "
   ]
  },
  {
   "cell_type": "code",
   "execution_count": 151,
   "id": "0c10fc6e-8d25-4881-a6aa-4e50516b03b9",
   "metadata": {},
   "outputs": [
    {
     "name": "stdout",
     "output_type": "stream",
     "text": [
      "what a inning by Virat kohali 100\n"
     ]
    }
   ],
   "source": [
    "print(sent .replace('rohit sharma','Virat kohali')) "
   ]
  },
  {
   "cell_type": "code",
   "execution_count": 155,
   "id": "3c3315b2-2d2c-4365-9f69-640c048d594a",
   "metadata": {},
   "outputs": [
    {
     "name": "stdout",
     "output_type": "stream",
     "text": [
      "['what', 'a', 'inning', 'by', 'rohit', 'sharma', '100']\n"
     ]
    }
   ],
   "source": [
    "print(sent .split())"
   ]
  },
  {
   "cell_type": "code",
   "execution_count": 173,
   "id": "a9a0c0de-5ccf-4cb8-84f4-7f1157ac172d",
   "metadata": {},
   "outputs": [
    {
     "name": "stdout",
     "output_type": "stream",
     "text": [
      "['hallow', 'world']\n"
     ]
    }
   ],
   "source": [
    "splitline ='hallow\\nworld'\n",
    "print(splitline.splitlines())"
   ]
  },
  {
   "cell_type": "markdown",
   "id": "463415eb-62e7-457e-8e0f-f98b4d9f24a1",
   "metadata": {},
   "source": [
    "## String Alignment and Padding Functions "
   ]
  },
  {
   "cell_type": "code",
   "execution_count": 194,
   "id": "2ee12d47-44aa-4baa-abb2-82956a840f1e",
   "metadata": {},
   "outputs": [
    {
     "name": "stdout",
     "output_type": "stream",
     "text": [
      "*****Prathmesh \n"
     ]
    }
   ],
   "source": [
    "print(name .rjust(15,'*'))"
   ]
  },
  {
   "cell_type": "code",
   "execution_count": 196,
   "id": "d5e939f7-0ced-4c8d-8c58-24970bad965a",
   "metadata": {},
   "outputs": [
    {
     "name": "stdout",
     "output_type": "stream",
     "text": [
      "Prathmesh -----\n"
     ]
    }
   ],
   "source": [
    "print(name .ljust(15,'-'))"
   ]
  },
  {
   "cell_type": "code",
   "execution_count": 206,
   "id": "41bed4bb-43e9-499c-bbe3-2ecef31961d4",
   "metadata": {},
   "outputs": [
    {
     "name": "stdout",
     "output_type": "stream",
     "text": [
      "---Prathmesh ---\n"
     ]
    }
   ],
   "source": [
    "print(name .center(16,'-'))"
   ]
  },
  {
   "cell_type": "code",
   "execution_count": 210,
   "id": "49496c90-9d36-4d60-9d06-9779efa6c7a4",
   "metadata": {},
   "outputs": [
    {
     "name": "stdout",
     "output_type": "stream",
     "text": [
      "00000Prathmesh \n"
     ]
    }
   ],
   "source": [
    "print(name .zfill(15))"
   ]
  },
  {
   "cell_type": "markdown",
   "id": "1da04e5b-2bfc-424c-9558-7d97474ed0d0",
   "metadata": {},
   "source": [
    "##  String Checking Functions "
   ]
  },
  {
   "cell_type": "code",
   "execution_count": 215,
   "id": "b40753a1-8f86-452a-a1d8-39877a2f470b",
   "metadata": {},
   "outputs": [
    {
     "name": "stdout",
     "output_type": "stream",
     "text": [
      "False\n"
     ]
    }
   ],
   "source": [
    "print(name .isupper())"
   ]
  },
  {
   "cell_type": "code",
   "execution_count": 217,
   "id": "c8fcc14f-b666-4049-8203-d13c8839b262",
   "metadata": {},
   "outputs": [
    {
     "name": "stdout",
     "output_type": "stream",
     "text": [
      "False\n"
     ]
    }
   ],
   "source": [
    "print(name .islower())"
   ]
  },
  {
   "cell_type": "code",
   "execution_count": 221,
   "id": "37318d06-4511-4b2c-bf7d-1a9f0462889c",
   "metadata": {},
   "outputs": [
    {
     "name": "stdout",
     "output_type": "stream",
     "text": [
      "True\n"
     ]
    }
   ],
   "source": [
    "print(name .istitle())"
   ]
  },
  {
   "cell_type": "code",
   "execution_count": 225,
   "id": "461c9caa-8c94-4e5d-b8dc-8117c5699d07",
   "metadata": {},
   "outputs": [
    {
     "name": "stdout",
     "output_type": "stream",
     "text": [
      "False\n"
     ]
    }
   ],
   "source": [
    "print(name .isspace())"
   ]
  },
  {
   "cell_type": "code",
   "execution_count": 235,
   "id": "29787a58-4f09-45d5-9552-654039ad2ac0",
   "metadata": {},
   "outputs": [
    {
     "name": "stdout",
     "output_type": "stream",
     "text": [
      "True\n",
      "True\n",
      "True\n"
     ]
    }
   ],
   "source": [
    "str0 = '123'\n",
    "str1 = 'ABC'\n",
    "str2 = '123ABC'\n",
    "print(str0 .isdigit())\n",
    "print(str1 .isalpha())\n",
    "print(str2.isalnum())"
   ]
  },
  {
   "cell_type": "markdown",
   "id": "0422bf87-5881-435b-9f74-b2be0240ba3a",
   "metadata": {},
   "source": [
    "### String Encoding and Decoding Functions "
   ]
  },
  {
   "cell_type": "code",
   "execution_count": 248,
   "id": "9c47e61f-8a76-43fc-a91a-2911dc3a53df",
   "metadata": {},
   "outputs": [
    {
     "name": "stdout",
     "output_type": "stream",
     "text": [
      "b'pass@123'\n"
     ]
    }
   ],
   "source": [
    "password ='pass@123' .encode()\n",
    "print(password)"
   ]
  },
  {
   "cell_type": "code",
   "execution_count": 250,
   "id": "dde8de58-639c-41ee-86f5-868f362af78e",
   "metadata": {},
   "outputs": [
    {
     "name": "stdout",
     "output_type": "stream",
     "text": [
      "pass@123\n"
     ]
    }
   ],
   "source": [
    "print(password .decode())"
   ]
  },
  {
   "cell_type": "code",
   "execution_count": null,
   "id": "fc271292-36f9-4da6-b10d-09e32c1f89be",
   "metadata": {},
   "outputs": [],
   "source": []
  }
 ],
 "metadata": {
  "kernelspec": {
   "display_name": "Python [conda env:base] *",
   "language": "python",
   "name": "conda-base-py"
  },
  "language_info": {
   "codemirror_mode": {
    "name": "ipython",
    "version": 3
   },
   "file_extension": ".py",
   "mimetype": "text/x-python",
   "name": "python",
   "nbconvert_exporter": "python",
   "pygments_lexer": "ipython3",
   "version": "3.12.7"
  }
 },
 "nbformat": 4,
 "nbformat_minor": 5
}
